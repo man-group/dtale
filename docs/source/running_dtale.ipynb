{
 "cells": [
  {
   "cell_type": "code",
   "execution_count": 1,
   "metadata": {
    "collapsed": false
   },
   "outputs": [
    {
     "name": "stderr",
     "output_type": "stream",
     "text": [
      "2019-09-03 23:08:35,778 - INFO     - D-Tale started at: http://aschonfeld:48858\n"
     ]
    }
   ],
   "source": [
    "import dtale\n",
    "import pandas as pd\n",
    "\n",
    "def build_data():\n",
    "    for i in range(100):\n",
    "        rec = dict(date=pd.Timestamp('20000101'), security_id=i, foo=i, bar=1.2345678)\n",
    "        for j in range(50):\n",
    "            rec[str(j)] = j\n",
    "        yield rec\n",
    "\n",
    "df = pd.DataFrame(list(build_data())).set_index(['date','security_id'])\n",
    "\n",
    "dtale.show(df)"
   ]
  },
  {
   "cell_type": "code",
   "execution_count": null,
   "metadata": {
    "collapsed": true
   },
   "outputs": [],
   "source": []
  }
 ],
 "metadata": {
  "kernelspec": {
   "display_name": "Python 2",
   "language": "python",
   "name": "python2"
  },
  "language_info": {
   "codemirror_mode": {
    "name": "ipython",
    "version": 2
   },
   "file_extension": ".py",
   "mimetype": "text/x-python",
   "name": "python",
   "nbconvert_exporter": "python",
   "pygments_lexer": "ipython2",
   "version": "2.7.13"
  }
 },
 "nbformat": 4,
 "nbformat_minor": 2
}
