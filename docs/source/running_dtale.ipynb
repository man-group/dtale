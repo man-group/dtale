{
    "cells": [
        {
            "cell_type": "markdown",
            "metadata": {},
            "source": [
                "# Running D-Tale from an ipython notebook "
            ]
        },
        {
            "cell_type": "markdown",
            "metadata": {},
            "source": [
                "## Using a pandas.DataFrame or pandas.Series ",
                "The following is hopefully sufficient for most applications (feedback welcome!): ",
                "``` ",
                "import dtale ",
                "dtale.show(df) ",
                "``` ",
            ]
        },
        {
            "cell_type": "code",
            "execution_count": 1,
            "metadata": {},
            "outputs": [],
            "source": [
                "%%capture ",
                "import dtale ",
                "import pandas as pd ",
                "def build_data(): ",
                "    for i in range(100): ",
                "        rec = dict(date=pd.Timestamp('20000101'), security_id=i, foo=i, bar=1.2345678) ",
                "        for j in range(50): ",
                "            rec[str(j)] = j ",
                "        yield rec ",
                "df = pd.DataFrame(list(build_data())).set_index(['date','security_id']) ",
                "dtale.show(df) ",
            ]
        }
    ],
    metadata: {
        kernelspec: {
            display_name: "Python 3",
            language: "python",
            name: "python3",
        },
        language_info: {
            codemirror_mode: {
                name: "ipython",
                version: 3,
            },
            file_extension: ".py",
            mimetype: "text/x-python",
            name: "python",
            nbconvert_exporter: "python",
            pygments_lexer: "ipython3",
            version: "3.6.5",
        },
    },
    "nbformat": 4,
    "nbformat_minor": 1,
}